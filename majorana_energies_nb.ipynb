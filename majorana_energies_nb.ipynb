{
 "cells": [
  {
   "cell_type": "markdown",
   "metadata": {},
   "source": [
    "# Intro\n",
    "Some scripts for visualizing energy modes in 1d systems, written as supplement as I followed along with the [Topocondmat course](https://topocondmat.org/w1_topointro/1D.html).\n",
    "\n",
    "# Scripts\n",
    "### majorana_modes.py\n",
    "Main script. Plot the energy levels for Kitaev or SSH chain. Parameters can also be tweaked via command line args.\n",
    "\n",
    "### kwant_version.py\n",
    "Use Kwant package to plot energy levels. (Largely copy-pasted from Topocondmat.)\n",
    "\n",
    "### Examples:\n",
    "```\n",
    "# Plot energies for Kitaev model as mu/t is tuned:\n",
    "python majorana_modes.py kitaev\n",
    "\n",
    "# as last-to-first-site hopping is tuned(default mu/t=0)\n",
    "python majorana_modes.py kitaev --tune x \n",
    "\n",
    "# with mu/t set at 3\n",
    "py majorana_modes.py kitaev --tune x -m 3.0 \n",
    "```\n",
    "To do the same for the SSH model, replace `'kitaev'` arg with `'ssh'`. In SSH model case, default tuning parameter is `t2/t1`  (ratio of the two hopping strengths, no cooper-pairing).\n",
    "\n",
    "#### Optional args:\n",
    "- `-N` (default `25`): Set number of sites\n",
    "- `-m` (default `1`): Set onsite-energy mu value (ignored if mu is being tuned)\n",
    "- `-d` (default `1`): Set value of Cooper pairing\n",
    "- `-t` (default `1`): Set value of next-neighbor hopping (ignored if ssh model)\n",
    "- `-x` (default `0.5`): Set parameter tuning last-to-first-site hopping. \n",
    "- `-t2` (default `1`): Set value of double-bond hopping (single-bond is always 1)\n",
    "- `--plot-band-idxs` (default `0 1`): plot spatial distribution of these eigenstates, indexed by number (e.g. `0 1 2` includes third-lowest state).\n",
    "- `--enforce-even-sites` (default `False`): in SSH model, enforce an even number of C-sites in the system.\n"
   ]
  },
  {
   "cell_type": "markdown",
   "metadata": {},
   "source": [
    "# Demo:\n",
    "To demo the code, let's follow the Topocondmat course and produce our own plots as we go along.\n",
    "\n",
    "First, plot the energy bands for the 1d Kitaev chain as the ratio (mu/t) of on-site energy to nearest-neighbor hopping is tuned:"
   ]
  },
  {
   "cell_type": "code",
   "execution_count": 2,
   "metadata": {},
   "outputs": [
    {
     "ename": "KeyError",
     "evalue": "'parameter_space'",
     "output_type": "error",
     "traceback": [
      "\u001b[1;31m---------------------------------------------------------------------------\u001b[0m",
      "\u001b[1;31mKeyError\u001b[0m                                  Traceback (most recent call last)",
      "Cell \u001b[1;32mIn[2], line 6\u001b[0m\n\u001b[0;32m      4\u001b[0m model_params \u001b[38;5;241m=\u001b[39m {\u001b[38;5;124m'\u001b[39m\u001b[38;5;124mtuning_parameter\u001b[39m\u001b[38;5;124m'\u001b[39m: \u001b[38;5;124m'\u001b[39m\u001b[38;5;124mmu/t\u001b[39m\u001b[38;5;124m'\u001b[39m, \u001b[38;5;124m'\u001b[39m\u001b[38;5;124mparam_space\u001b[39m\u001b[38;5;124m'\u001b[39m: np\u001b[38;5;241m.\u001b[39mlinspace(\u001b[38;5;241m0\u001b[39m,\u001b[38;5;241m3\u001b[39m,\u001b[38;5;241m51\u001b[39m)}\n\u001b[0;32m      5\u001b[0m \u001b[38;5;66;03m# Initiate Hamiltonian constructor class\u001b[39;00m\n\u001b[1;32m----> 6\u001b[0m H_constructor \u001b[38;5;241m=\u001b[39m H_BdG_constructor(\u001b[38;5;124m'\u001b[39m\u001b[38;5;124mkitaev\u001b[39m\u001b[38;5;124m'\u001b[39m, model_params)\n\u001b[0;32m      7\u001b[0m H_constructor\u001b[38;5;241m.\u001b[39mconstruct_and_solve_hamiltonians()\n\u001b[0;32m      8\u001b[0m H_constructor\u001b[38;5;241m.\u001b[39mplot_figures()\n",
      "File \u001b[1;32mc:\\Users\\erica\\OneDrive\\Desktop\\repos\\projects\\majorana_energies.py:90\u001b[0m, in \u001b[0;36mH_BdG_constructor.__init__\u001b[1;34m(self, model, model_params, **kwargs)\u001b[0m\n\u001b[0;32m     87\u001b[0m \u001b[38;5;28mself\u001b[39m\u001b[38;5;241m.\u001b[39mmodel_params \u001b[38;5;241m=\u001b[39m model_params\n\u001b[0;32m     89\u001b[0m \u001b[38;5;28mself\u001b[39m\u001b[38;5;241m.\u001b[39mparam_label \u001b[38;5;241m=\u001b[39m model_params\u001b[38;5;241m.\u001b[39mget(\u001b[38;5;124m'\u001b[39m\u001b[38;5;124mtuning_parameter\u001b[39m\u001b[38;5;124m'\u001b[39m, \u001b[38;5;124m'\u001b[39m\u001b[38;5;124mmu/t\u001b[39m\u001b[38;5;124m'\u001b[39m)\n\u001b[1;32m---> 90\u001b[0m \u001b[38;5;28mself\u001b[39m\u001b[38;5;241m.\u001b[39mparam_space \u001b[38;5;241m=\u001b[39m model_params\u001b[38;5;241m.\u001b[39mget(\u001b[38;5;124m'\u001b[39m\u001b[38;5;124mparameter_space\u001b[39m\u001b[38;5;124m'\u001b[39m, np\u001b[38;5;241m.\u001b[39mlinspace(\u001b[38;5;241m0\u001b[39m, \u001b[38;5;241m1\u001b[39m, \u001b[38;5;241m51\u001b[39m))\n\u001b[0;32m     91\u001b[0m \u001b[38;5;28mself\u001b[39m\u001b[38;5;241m.\u001b[39mN_sites \u001b[38;5;241m=\u001b[39m model_params\u001b[38;5;241m.\u001b[39mget(\u001b[38;5;124m'\u001b[39m\u001b[38;5;124mN_sites\u001b[39m\u001b[38;5;124m'\u001b[39m, \u001b[38;5;241m5\u001b[39m)\n\u001b[0;32m     92\u001b[0m \u001b[38;5;28mself\u001b[39m\u001b[38;5;241m.\u001b[39mplot_band_idxs \u001b[38;5;241m=\u001b[39m kwargs\u001b[38;5;241m.\u001b[39mget(\u001b[38;5;124m'\u001b[39m\u001b[38;5;124mplot_band_idxs\u001b[39m\u001b[38;5;124m'\u001b[39m, [\u001b[38;5;241m0\u001b[39m,\u001b[38;5;241m1\u001b[39m])\n",
      "\u001b[1;31mKeyError\u001b[0m: 'parameter_space'"
     ]
    }
   ],
   "source": [
    "import numpy as np\n",
    "from majorana_energies import H_BdG_constructor\n",
    "\n",
    "model_params = {'tuning_parameter': 'mu/t', 'parameter_space': np.linspace(0,3,51)}\n",
    "# Initiate Hamiltonian constructor class\n",
    "H_constructor = H_BdG_constructor('kitaev', model_params)\n",
    "H_constructor.construct_and_solve_hamiltonians()\n",
    "H_constructor.plot_figures()"
   ]
  }
 ],
 "metadata": {
  "kernelspec": {
   "display_name": "base",
   "language": "python",
   "name": "python3"
  },
  "language_info": {
   "codemirror_mode": {
    "name": "ipython",
    "version": 3
   },
   "file_extension": ".py",
   "mimetype": "text/x-python",
   "name": "python",
   "nbconvert_exporter": "python",
   "pygments_lexer": "ipython3",
   "version": "3.11.5"
  }
 },
 "nbformat": 4,
 "nbformat_minor": 2
}
